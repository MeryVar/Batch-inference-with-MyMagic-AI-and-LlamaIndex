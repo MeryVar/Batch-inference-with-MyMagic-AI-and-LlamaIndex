{
 "cells": [
  {
   "cell_type": "code",
   "execution_count": null,
   "id": "c245442d",
   "metadata": {},
   "outputs": [],
   "source": [
    "pip install llama-index"
   ]
  },
  {
   "cell_type": "code",
   "execution_count": null,
   "id": "e6f6fb51",
   "metadata": {},
   "outputs": [],
   "source": [
    "pip install llama-index-llms-mymagic"
   ]
  },
  {
   "cell_type": "code",
   "execution_count": null,
   "id": "76039bd2",
   "metadata": {},
   "outputs": [],
   "source": [
    "import asyncio\n",
    "from llama_index.llms.mymagic import MyMagicAI\n",
    "\n",
    "llm = MyMagicAI(\n",
    "    api_key=\"user_...\", # provided by MyMagic AI upon sign-up\n",
    "    storage_provider=\"s3\",\n",
    "    bucket_name=\"batch-bucket\", # you may name anything\n",
    "    session=\"my-session\",\n",
    "    role_arn=\"arn:aws:iam::<your account id>:role/mymagic-role\",\n",
    "    system_prompt=\"You are an AI assistant that helps to summarize the documents without essential loss of information\", # default prompt at https://docs.mymagic.ai/api-reference/endpoint/create\n",
    "    region=\"eu-west-2\",\n",
    ")"
   ]
  },
  {
   "cell_type": "code",
   "execution_count": null,
   "id": "59142dfc",
   "metadata": {},
   "outputs": [],
   "source": [
    "resp = llm.complete(\n",
    "    question=\"Summarise this in one sentence.\",\n",
    "    model=\"mixtral8x7\", \n",
    "    max_tokens=20,  # default is 10\n",
    ")\n",
    "print(resp)\n",
    "async def main():\n",
    "    aresp = await llm.acomplete(\n",
    "        question=\"Summarize this in one sentence.\",\n",
    "        model=\"llama7b\",\n",
    "        max_tokens=20,\n",
    "    )\n",
    "    print(aresp)\n",
    "\n",
    "asyncio.run(main())"
   ]
  },
  {
   "cell_type": "code",
   "execution_count": null,
   "id": "af80ff6c",
   "metadata": {},
   "outputs": [],
   "source": [
    "pip install llama-index-embeddings-huggingface\n",
    "curl -fsSL https://ollama.com/install.sh | sh\n",
    "ollama pull llama3"
   ]
  },
  {
   "cell_type": "code",
   "execution_count": null,
   "id": "29da0aad",
   "metadata": {},
   "outputs": [],
   "source": [
    "import os\n",
    "\n",
    "from llama_index.embeddings.huggingface import HuggingFaceEmbedding\n",
    "from llama_index.core.indices.vector_store import VectorStoreIndex\n",
    "from llama_index.core.settings import Settings\n",
    "from llama_index.core.readers import SimpleDirectoryReader\n",
    "from llama_index.llms.ollama import Ollama"
   ]
  },
  {
   "cell_type": "code",
   "execution_count": null,
   "id": "b5f9ef81",
   "metadata": {},
   "outputs": [],
   "source": [
    "embed_model = HuggingFaceEmbedding(model_name=\"BAAI/bge-base-en-v1.5\")\n",
    "llm = Ollama(model=\"llama3\", request_timeout=300.0)"
   ]
  },
  {
   "cell_type": "code",
   "execution_count": null,
   "id": "b84fb17a",
   "metadata": {},
   "outputs": [],
   "source": [
    "Settings.llm = llm\n",
    "Settings.embed_model = embed_model\n",
    "Settings.chunk_size = 512 # This parameter defines the size of text chunks for embedding\n",
    "\n",
    "documents = SimpleDirectoryReader(\"reviews_1_5.json\").load_data() #Modify path for your case"
   ]
  },
  {
   "cell_type": "code",
   "execution_count": null,
   "id": "9b87a389",
   "metadata": {},
   "outputs": [],
   "source": [
    "index = VectorStoreIndex.from_documents(documents, show_progress=True)\n",
    "\n",
    "query_engine = index.as_query_engine(similarity_top_k=3)\n",
    "\n",
    "response = query_engine.query(\"What is the least favourite movie?\")\n",
    "print(response)"
   ]
  },
  {
   "cell_type": "code",
   "execution_count": null,
   "id": "667aa885",
   "metadata": {},
   "outputs": [],
   "source": [
    "# Output: Based on query results, the least favourite movie is: review 1 with a rating of 3 out of 10."
   ]
  }
 ],
 "metadata": {
  "kernelspec": {
   "display_name": "Python 3 (ipykernel)",
   "language": "python",
   "name": "python3"
  },
  "language_info": {
   "codemirror_mode": {
    "name": "ipython",
    "version": 3
   },
   "file_extension": ".py",
   "mimetype": "text/x-python",
   "name": "python",
   "nbconvert_exporter": "python",
   "pygments_lexer": "ipython3",
   "version": "3.10.12"
  }
 },
 "nbformat": 4,
 "nbformat_minor": 5
}
